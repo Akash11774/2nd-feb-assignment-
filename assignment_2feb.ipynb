{
 "cells": [
  {
   "cell_type": "code",
   "execution_count": 21,
   "id": "9a9c504f-f096-4fd3-96c5-c9df015f45be",
   "metadata": {},
   "outputs": [],
   "source": [
    "# question number 1 ans\n",
    "# the for loop is used when we know the number of itterations. example string = \"I want to become a data scientist\"string = \"I want to become a data scientist\" in this number of itteration is fixed\n",
    "# the while loop is used when number of itteration is not fixed. example string=input(\"entre value\"), in this we don't know what value user will enter.\n"
   ]
  },
  {
   "cell_type": "code",
   "execution_count": 6,
   "id": "e7d93378-cc8d-42f0-bf2f-ce239b90808d",
   "metadata": {},
   "outputs": [
    {
     "name": "stdout",
     "output_type": "stream",
     "text": [
      "sum of 1st 10 natural number is :-  55\n",
      "products  of 1st 10 natural number is :-  3628800\n"
     ]
    }
   ],
   "source": [
    "#question number 2 ans\n",
    "\n",
    "list_natural=range(1,11)\n",
    "sum=0\n",
    "product=1\n",
    "for i in list_natural:\n",
    "    sum=sum+i\n",
    "    product=product*i\n",
    "print(\"sum of 1st 10 natural number is :- \",sum)\n",
    "print(\"products  of 1st 10 natural number is :- \",product)"
   ]
  },
  {
   "cell_type": "code",
   "execution_count": 5,
   "id": "e555af6f-b052-4abe-9a9d-8932de35cd50",
   "metadata": {},
   "outputs": [
    {
     "name": "stdin",
     "output_type": "stream",
     "text": [
      "Enter your Electricity Bill:  310\n"
     ]
    },
    {
     "name": "stdout",
     "output_type": "stream",
     "text": [
      "Total Electricity Bill:  2250.0\n"
     ]
    }
   ],
   "source": [
    "# question number 3 ans\n",
    "\n",
    "Eb = int(input(\"Enter your Electricity Bill: \"))\n",
    "counter = 1\n",
    "total = 0\n",
    "\n",
    "while counter <= Eb:\n",
    "    if counter <= 100:\n",
    "        total = counter * 4.5\n",
    "    elif counter <= 200:\n",
    "        total = 100 * 4.5 + (counter - 100) * 6\n",
    "    elif counter <= 300:\n",
    "        total = 100 * 4.5 + 100 * 6 + (counter - 200) * 10\n",
    "    else:\n",
    "        total = 100 * 4.5 + 100 * 6 + 100 * 10 + (counter - 300) * 20\n",
    "    counter += 1\n",
    "\n",
    "print(\"Total Electricity Bill: \", total)"
   ]
  },
  {
   "cell_type": "code",
   "execution_count": 6,
   "id": "5899f768-44bd-4d49-b41f-547fb1ba8cde",
   "metadata": {},
   "outputs": [
    {
     "name": "stdout",
     "output_type": "stream",
     "text": [
      "[8, 64, 216, 512, 1000, 1728, 2744, 4096, 5832, 8000, 10648, 13824, 17576, 21952, 27000, 32768, 39304, 46656, 54872, 64000, 74088, 85184, 97336, 110592, 125000, 140608, 157464, 175616, 195112, 216000, 238328, 262144, 287496, 314432, 343000, 373248, 405224, 438976, 474552, 512000, 551368, 592704, 636056, 681472, 729000, 778688, 830584, 884736, 941192]\n"
     ]
    }
   ],
   "source": [
    "## question number 4 \n",
    "\n",
    "list_num=[]\n",
    "list_value=[]\n",
    "for i in range(1,100):\n",
    "   ## list_num.append(i**2)\n",
    "    list_num.append(i**3)\n",
    "for i in list_num:\n",
    "    if i%4==0:\n",
    "        list_value.append(i)\n",
    "print(list_value)\n",
    "    "
   ]
  },
  {
   "cell_type": "code",
   "execution_count": 20,
   "id": "318d6f6f-69b8-4228-b991-6e71c852dd97",
   "metadata": {},
   "outputs": [
    {
     "name": "stdout",
     "output_type": "stream",
     "text": [
      "Total value :-  11\n"
     ]
    }
   ],
   "source": [
    "# question number 5 ans\n",
    "\n",
    "string=\"I want to become a data scientist\"\n",
    "count=0\n",
    "for i in string:\n",
    "    if i==\"a\" or i==\"e\" or i==\"i\" or i==\"o\" or i==\"u\":\n",
    "        count= count+1\n",
    "print(\"Total value :- \",count)"
   ]
  },
  {
   "cell_type": "code",
   "execution_count": null,
   "id": "8179d2dd-cc17-4619-ad8f-ec01074741aa",
   "metadata": {},
   "outputs": [],
   "source": []
  }
 ],
 "metadata": {
  "kernelspec": {
   "display_name": "Python 3 (ipykernel)",
   "language": "python",
   "name": "python3"
  },
  "language_info": {
   "codemirror_mode": {
    "name": "ipython",
    "version": 3
   },
   "file_extension": ".py",
   "mimetype": "text/x-python",
   "name": "python",
   "nbconvert_exporter": "python",
   "pygments_lexer": "ipython3",
   "version": "3.10.8"
  }
 },
 "nbformat": 4,
 "nbformat_minor": 5
}
